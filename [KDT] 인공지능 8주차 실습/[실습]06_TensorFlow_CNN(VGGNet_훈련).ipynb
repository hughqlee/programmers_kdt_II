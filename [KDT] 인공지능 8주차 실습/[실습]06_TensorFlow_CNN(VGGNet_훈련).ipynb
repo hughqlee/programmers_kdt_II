{
 "cells": [
  {
   "cell_type": "markdown",
   "metadata": {
    "id": "aTe-Pcv6TF8k"
   },
   "source": [
    "TensorFlow 및 기타 라이브러리 가져 오기"
   ]
  },
  {
   "cell_type": "code",
   "execution_count": 1,
   "metadata": {
    "colab": {
     "base_uri": "https://localhost:8080/"
    },
    "executionInfo": {
     "elapsed": 2117,
     "status": "ok",
     "timestamp": 1609489445159,
     "user": {
      "displayName": "‍유영준(대학원생-컴퓨터공학전공)",
      "photoUrl": "",
      "userId": "05306830006050001722"
     },
     "user_tz": -540
    },
    "id": "wZ4XW3iaSuG4",
    "outputId": "543d64ff-969f-4bb6-ec3d-9e558b4a5a65"
   },
   "outputs": [
    {
     "name": "stdout",
     "output_type": "stream",
     "text": [
      "tensorflow version 2.4.1\n"
     ]
    }
   ],
   "source": [
    "from __future__ import absolute_import, division, print_function, unicode_literals\n",
    "import os\n",
    "import numpy as np\n",
    "import matplotlib.pyplot as plt\n",
    "\n",
    "try:\n",
    "  %tensorflow_version 2.x\n",
    "except Exception:\n",
    "  pass\n",
    "import tensorflow as tf\n",
    "\n",
    "keras = tf.keras\n",
    "\n",
    "print(\"tensorflow version\",tf.__version__)"
   ]
  },
  {
   "cell_type": "code",
   "execution_count": 2,
   "metadata": {
    "executionInfo": {
     "elapsed": 2106,
     "status": "ok",
     "timestamp": 1609489445160,
     "user": {
      "displayName": "‍유영준(대학원생-컴퓨터공학전공)",
      "photoUrl": "",
      "userId": "05306830006050001722"
     },
     "user_tz": -540
    },
    "id": "-gtjVnuJ8qpo"
   },
   "outputs": [],
   "source": [
    "IMG_SIZE = 224 # 모든 이미지는 224x224으로 크기 조정 \n",
    "EPOCHS = 3\n",
    "BATCH_SIZE=128\n",
    "learning_rate = 0.0001"
   ]
  },
  {
   "cell_type": "markdown",
   "metadata": {
    "id": "ZDI4D5sPTNN_"
   },
   "source": [
    "데이터 세트 다운로드 및 탐색"
   ]
  },
  {
   "cell_type": "code",
   "execution_count": 10,
   "metadata": {
    "colab": {
     "base_uri": "https://localhost:8080/"
    },
    "executionInfo": {
     "elapsed": 46344,
     "status": "ok",
     "timestamp": 1609489489406,
     "user": {
      "displayName": "‍유영준(대학원생-컴퓨터공학전공)",
      "photoUrl": "",
      "userId": "05306830006050001722"
     },
     "user_tz": -540
    },
    "id": "e0yoQbwuTU_9",
    "outputId": "25784a27-46c0-478c-b4f3-d6fb36fc2c36"
   },
   "outputs": [
    {
     "name": "stdout",
     "output_type": "stream",
     "text": [
      "\u001b[1mDownloading and preparing dataset 162.17 MiB (download: 162.17 MiB, generated: 132.40 MiB, total: 294.58 MiB) to /Users/hughqlee/tensorflow_datasets/cifar10/3.0.2...\u001b[0m\n",
      "\u001b[1mDataset cifar10 downloaded and prepared to /Users/hughqlee/tensorflow_datasets/cifar10/3.0.2. Subsequent calls will reuse this data.\u001b[0m\n",
      "Train data 개수: 45000\n",
      "Val data 개수: 5000\n",
      "Test data 개수: 10000\n"
     ]
    }
   ],
   "source": [
    "from keras.datasets import cifar10\n",
    "from keras.utils import np_utils\n",
    "import tensorflow_datasets as tfds\n",
    "\n",
    "tfds.disable_progress_bar()\n",
    "\n",
    "#분류할 클래스 개수 \n",
    "num_classes=10 # Cifar10의 클래스 개수\n",
    "\n",
    "(raw_train, raw_validation, raw_test), metadata = tfds.load(\n",
    "    'cifar10',\n",
    "    split=['train[:90%]', 'train[90%:]', 'test'],\n",
    "    with_info=True,\n",
    "    as_supervised=True,\n",
    ")\n",
    "\n",
    "print(\"Train data 개수:\",len(raw_train))\n",
    "print(\"Val data 개수:\",len(raw_validation))\n",
    "print(\"Test data 개수:\",len(raw_test))"
   ]
  },
  {
   "cell_type": "markdown",
   "metadata": {
    "id": "82N4Qrj4VNwL"
   },
   "source": [
    "데이터 정규화(tf.image 모듈을 사용하여 이미지를 정규화)"
   ]
  },
  {
   "cell_type": "code",
   "execution_count": 11,
   "metadata": {
    "executionInfo": {
     "elapsed": 46334,
     "status": "ok",
     "timestamp": 1609489489407,
     "user": {
      "displayName": "‍유영준(대학원생-컴퓨터공학전공)",
      "photoUrl": "",
      "userId": "05306830006050001722"
     },
     "user_tz": -540
    },
    "id": "Fo8o4oTZVRPE"
   },
   "outputs": [],
   "source": [
    "def format_example(image, label):\n",
    "  image = tf.cast(image, tf.float32)\n",
    "  image = (image/127.5) - 1\n",
    "  image = tf.image.resize(image, (IMG_SIZE, IMG_SIZE))\n",
    "  return image, label"
   ]
  },
  {
   "cell_type": "code",
   "execution_count": 12,
   "metadata": {
    "executionInfo": {
     "elapsed": 46327,
     "status": "ok",
     "timestamp": 1609489489408,
     "user": {
      "displayName": "‍유영준(대학원생-컴퓨터공학전공)",
      "photoUrl": "",
      "userId": "05306830006050001722"
     },
     "user_tz": -540
    },
    "id": "DmwtU6COVUh4"
   },
   "outputs": [],
   "source": [
    "\n",
    "# #map 함수를 사용하여 데이터셋의 각 항목에 데이터 포맷 함수를 적용\n",
    "train = raw_train.map(format_example)\n",
    "validation = raw_validation.map(format_example)\n",
    "test = raw_test.map(format_example)\n"
   ]
  },
  {
   "cell_type": "markdown",
   "metadata": {
    "id": "ZsnDO5bNTVkx"
   },
   "source": [
    "데이터 세트 만들기"
   ]
  },
  {
   "cell_type": "code",
   "execution_count": 13,
   "metadata": {
    "executionInfo": {
     "elapsed": 46321,
     "status": "ok",
     "timestamp": 1609489489409,
     "user": {
      "displayName": "‍유영준(대학원생-컴퓨터공학전공)",
      "photoUrl": "",
      "userId": "05306830006050001722"
     },
     "user_tz": -540
    },
    "id": "hQDpTuPAVgFb"
   },
   "outputs": [],
   "source": [
    "SHUFFLE_BUFFER_SIZE = 1000\n",
    "train_batches = train.shuffle(SHUFFLE_BUFFER_SIZE).batch(BATCH_SIZE)\n",
    "validation_batches = validation.batch(BATCH_SIZE)\n",
    "test_batches = test.batch(BATCH_SIZE)"
   ]
  },
  {
   "cell_type": "markdown",
   "metadata": {
    "id": "Sq-RZv0RVjOC"
   },
   "source": [
    "데이터 검사하기"
   ]
  },
  {
   "cell_type": "code",
   "execution_count": 14,
   "metadata": {
    "colab": {
     "base_uri": "https://localhost:8080/",
     "height": 545
    },
    "executionInfo": {
     "elapsed": 46889,
     "status": "ok",
     "timestamp": 1609489489987,
     "user": {
      "displayName": "‍유영준(대학원생-컴퓨터공학전공)",
      "photoUrl": "",
      "userId": "05306830006050001722"
     },
     "user_tz": -540
    },
    "id": "w0nuZkZ8Vjax",
    "outputId": "d1267e6f-b5e8-4053-835a-8674470209e4"
   },
   "outputs": [
    {
     "data": {
      "image/png": "[encoded data removed]",
      "text/plain": [
       "<Figure size 432x288 with 1 Axes>"
      ]
     },
     "metadata": {
      "needs_background": "light"
     },
     "output_type": "display_data"
    },
    {
     "data": {
      "image/png": "[encoded data removed]",
      "text/plain": [
       "<Figure size 432x288 with 1 Axes>"
      ]
     },
     "metadata": {
      "needs_background": "light"
     },
     "output_type": "display_data"
    }
   ],
   "source": [
    "#데이터 가시화\n",
    "get_label_name = metadata.features['label'].int2str\n",
    "\n",
    "for image, label in raw_train.take(2):\n",
    "  plt.figure()\n",
    "  plt.imshow(image)\n",
    "  plt.title(get_label_name(label))"
   ]
  },
  {
   "cell_type": "markdown",
   "metadata": {
    "id": "6wSwE9UI3QF2"
   },
   "source": [
    "사용할 CNN 모델 불러오기"
   ]
  },
  {
   "cell_type": "code",
   "execution_count": 15,
   "metadata": {
    "colab": {
     "base_uri": "https://localhost:8080/"
    },
    "executionInfo": {
     "elapsed": 52715,
     "status": "ok",
     "timestamp": 1609489495825,
     "user": {
      "displayName": "‍유영준(대학원생-컴퓨터공학전공)",
      "photoUrl": "",
      "userId": "05306830006050001722"
     },
     "user_tz": -540
    },
    "id": "mwIlyXBCVo9L",
    "outputId": "ce159fb8-f85c-4b9a-b4aa-f03cec264ce8"
   },
   "outputs": [
    {
     "name": "stdout",
     "output_type": "stream",
     "text": [
      "Downloading data from https://storage.googleapis.com/tensorflow/keras-applications/vgg16/vgg16_weights_tf_dim_ordering_tf_kernels.h5\n",
      "553467904/553467096 [==============================] - 46s 0us/step\n"
     ]
    }
   ],
   "source": [
    "IMG_SHAPE = (IMG_SIZE, IMG_SIZE, 3)\n",
    "\n",
    "#CNN 모델 변경하려면 여기서 변경\n",
    "#ImageNet으로 사전 훈련된 모델 불러오기 \n",
    "base_model = tf.keras.applications.VGG16(input_shape=IMG_SHAPE,\n",
    "                                               include_top=True,\n",
    "                                                classes=1000,\n",
    "                                               weights='imagenet')"
   ]
  },
  {
   "cell_type": "markdown",
   "metadata": {
    "id": "SHOlUK5TJApc"
   },
   "source": [
    "불러온 모델에서 데이터 셋의 클래스 수에 맞게 최종 분류층 교체 "
   ]
  },
  {
   "cell_type": "code",
   "execution_count": 16,
   "metadata": {
    "executionInfo": {
     "elapsed": 52708,
     "status": "ok",
     "timestamp": 1609489495828,
     "user": {
      "displayName": "‍유영준(대학원생-컴퓨터공학전공)",
      "photoUrl": "",
      "userId": "05306830006050001722"
     },
     "user_tz": -540
    },
    "id": "sgjLcaRXafZI"
   },
   "outputs": [],
   "source": [
    "model = tf.keras.Sequential()\n",
    "for layer in base_model.layers[:-1]: # go through until last layer\n",
    "    model.add(layer)\n",
    "#마지막 layer의 최종 분류 개수를 클래스 개수와 맞게 설정\n",
    "model.add(keras.layers.Dense(num_classes, activation='softmax',name='predictions'))"
   ]
  },
  {
   "cell_type": "markdown",
   "metadata": {
    "id": "c6H0SRqSWg1_"
   },
   "source": [
    "모델 아키텍처 살펴보기 "
   ]
  },
  {
   "cell_type": "code",
   "execution_count": 17,
   "metadata": {
    "colab": {
     "base_uri": "https://localhost:8080/"
    },
    "executionInfo": {
     "elapsed": 52701,
     "status": "ok",
     "timestamp": 1609489495833,
     "user": {
      "displayName": "‍유영준(대학원생-컴퓨터공학전공)",
      "photoUrl": "",
      "userId": "05306830006050001722"
     },
     "user_tz": -540
    },
    "id": "D4ZiKw20aCkH",
    "outputId": "ce48eb46-c572-49f7-c9e9-53fb33b75aca"
   },
   "outputs": [
    {
     "name": "stdout",
     "output_type": "stream",
     "text": [
      "Model: \"sequential\"\n",
      "_________________________________________________________________\n",
      "Layer (type)                 Output Shape              Param #   \n",
      "=================================================================\n",
      "block1_conv1 (Conv2D)        (None, 224, 224, 64)      1792      \n",
      "_________________________________________________________________\n",
      "block1_conv2 (Conv2D)        (None, 224, 224, 64)      36928     \n",
      "_________________________________________________________________\n",
      "block1_pool (MaxPooling2D)   (None, 112, 112, 64)      0         \n",
      "_________________________________________________________________\n",
      "block2_conv1 (Conv2D)        (None, 112, 112, 128)     73856     \n",
      "_________________________________________________________________\n",
      "block2_conv2 (Conv2D)        (None, 112, 112, 128)     147584    \n",
      "_________________________________________________________________\n",
      "block2_pool (MaxPooling2D)   (None, 56, 56, 128)       0         \n",
      "_________________________________________________________________\n",
      "block3_conv1 (Conv2D)        (None, 56, 56, 256)       295168    \n",
      "_________________________________________________________________\n",
      "block3_conv2 (Conv2D)        (None, 56, 56, 256)       590080    \n",
      "_________________________________________________________________\n",
      "block3_conv3 (Conv2D)        (None, 56, 56, 256)       590080    \n",
      "_________________________________________________________________\n",
      "block3_pool (MaxPooling2D)   (None, 28, 28, 256)       0         \n",
      "_________________________________________________________________\n",
      "block4_conv1 (Conv2D)        (None, 28, 28, 512)       1180160   \n",
      "_________________________________________________________________\n",
      "block4_conv2 (Conv2D)        (None, 28, 28, 512)       2359808   \n",
      "_________________________________________________________________\n",
      "block4_conv3 (Conv2D)        (None, 28, 28, 512)       2359808   \n",
      "_________________________________________________________________\n",
      "block4_pool (MaxPooling2D)   (None, 14, 14, 512)       0         \n",
      "_________________________________________________________________\n",
      "block5_conv1 (Conv2D)        (None, 14, 14, 512)       2359808   \n",
      "_________________________________________________________________\n",
      "block5_conv2 (Conv2D)        (None, 14, 14, 512)       2359808   \n",
      "_________________________________________________________________\n",
      "block5_conv3 (Conv2D)        (None, 14, 14, 512)       2359808   \n",
      "_________________________________________________________________\n",
      "block5_pool (MaxPooling2D)   (None, 7, 7, 512)         0         \n",
      "_________________________________________________________________\n",
      "flatten (Flatten)            (None, 25088)             0         \n",
      "_________________________________________________________________\n",
      "fc1 (Dense)                  (None, 4096)              102764544 \n",
      "_________________________________________________________________\n",
      "fc2 (Dense)                  (None, 4096)              16781312  \n",
      "_________________________________________________________________\n",
      "predictions (Dense)          (None, 10)                40970     \n",
      "=================================================================\n",
      "Total params: 134,301,514\n",
      "Trainable params: 134,301,514\n",
      "Non-trainable params: 0\n",
      "_________________________________________________________________\n"
     ]
    }
   ],
   "source": [
    "model.summary()"
   ]
  },
  {
   "cell_type": "markdown",
   "metadata": {
    "id": "BoRce-SPXoPB"
   },
   "source": [
    "모델 컴파일"
   ]
  },
  {
   "cell_type": "code",
   "execution_count": 18,
   "metadata": {
    "executionInfo": {
     "elapsed": 52678,
     "status": "ok",
     "timestamp": 1609489495846,
     "user": {
      "displayName": "‍유영준(대학원생-컴퓨터공학전공)",
      "photoUrl": "",
      "userId": "05306830006050001722"
     },
     "user_tz": -540
    },
    "id": "FOsJrIZQXpkS"
   },
   "outputs": [],
   "source": [
    "model.compile(optimizer=tf.keras.optimizers.Adam(lr=learning_rate),\n",
    "              loss='sparse_categorical_crossentropy',\n",
    "              metrics=['accuracy'])"
   ]
  },
  {
   "cell_type": "markdown",
   "metadata": {
    "id": "kuo2bz6JYA4I"
   },
   "source": [
    "모델 훈련"
   ]
  },
  {
   "cell_type": "code",
   "execution_count": null,
   "metadata": {
    "colab": {
     "base_uri": "https://localhost:8080/"
    },
    "executionInfo": {
     "elapsed": 2113953,
     "status": "ok",
     "timestamp": 1609491557128,
     "user": {
      "displayName": "‍유영준(대학원생-컴퓨터공학전공)",
      "photoUrl": "",
      "userId": "05306830006050001722"
     },
     "user_tz": -540
    },
    "id": "o-X7OPSqYEt3",
    "outputId": "641ad582-63fb-4945-b9f9-afd7c5b99bf0"
   },
   "outputs": [
    {
     "name": "stdout",
     "output_type": "stream",
     "text": [
      "Epoch 1/3\n",
      "  1/352 [..............................] - ETA: 8:19:32 - loss: 2.8176 - accuracy: 0.0859"
     ]
    }
   ],
   "source": [
    "history = model.fit(train_batches,\n",
    "                    epochs=EPOCHS,\n",
    "                    validation_data=validation_batches,\n",
    "                    batch_size=BATCH_SIZE)"
   ]
  },
  {
   "cell_type": "markdown",
   "metadata": {
    "id": "Kg5OKn0cYGOB"
   },
   "source": [
    "학습 곡선 그리기"
   ]
  },
  {
   "cell_type": "code",
   "execution_count": null,
   "metadata": {
    "colab": {
     "base_uri": "https://localhost:8080/",
     "height": 513
    },
    "executionInfo": {
     "elapsed": 2114696,
     "status": "ok",
     "timestamp": 1609491557882,
     "user": {
      "displayName": "‍유영준(대학원생-컴퓨터공학전공)",
      "photoUrl": "",
      "userId": "05306830006050001722"
     },
     "user_tz": -540
    },
    "id": "EtMEB_4dYHCz",
    "outputId": "91aec7c5-d923-4ca0-e2c3-ed11d6fa8526"
   },
   "outputs": [],
   "source": [
    "acc = history.history['accuracy']\n",
    "val_acc = history.history['val_accuracy']\n",
    "\n",
    "loss = history.history['loss']\n",
    "val_loss = history.history['val_loss']\n",
    "\n",
    "plt.figure(figsize=(8, 8))\n",
    "plt.subplot(2, 1, 1)\n",
    "plt.plot(acc, label='Training Accuracy')\n",
    "plt.plot(val_acc, label='Validation Accuracy')\n",
    "plt.legend(loc='lower right')\n",
    "plt.ylabel('Accuracy')\n",
    "plt.ylim([min(plt.ylim()),1])\n",
    "plt.title('Training and Validation Accuracy')\n",
    "\n",
    "plt.subplot(2, 1, 2)\n",
    "plt.plot(loss, label='Training Loss')\n",
    "plt.plot(val_loss, label='Validation Loss')\n",
    "plt.legend(loc='upper right')\n",
    "plt.ylabel('Cross Entropy')\n",
    "plt.ylim([0,1.0])\n",
    "plt.title('Training and Validation Loss')\n",
    "plt.xlabel('epoch')\n",
    "plt.show()"
   ]
  },
  {
   "cell_type": "markdown",
   "metadata": {
    "id": "cTDlmrRZNHUJ"
   },
   "source": [
    "Test Set으로 학습된 모델 테스트"
   ]
  },
  {
   "cell_type": "code",
   "execution_count": null,
   "metadata": {
    "colab": {
     "base_uri": "https://localhost:8080/"
    },
    "executionInfo": {
     "elapsed": 40831,
     "status": "ok",
     "timestamp": 1609492358958,
     "user": {
      "displayName": "‍유영준(대학원생-컴퓨터공학전공)",
      "photoUrl": "",
      "userId": "05306830006050001722"
     },
     "user_tz": -540
    },
    "id": "uT1Dfr_07YsZ",
    "outputId": "5dc2c4e8-ab58-48e9-8ec4-b3056ca570a1"
   },
   "outputs": [],
   "source": [
    "loss_and_metrics = model.evaluate(test_batches, batch_size=64)\n",
    "print(\"테스트 성능 : {}%\".format(round(loss_and_metrics[1]*100,4)))"
   ]
  }
 ],
 "metadata": {
  "accelerator": "GPU",
  "colab": {
   "authorship_tag": "ABX9TyPjYo/ire5+Wln2tiCsEe8v",
   "collapsed_sections": [],
   "name": "VGGNet16 Training (Tensorflow Version).ipynb",
   "provenance": []
  },
  "kernelspec": {
   "display_name": "Python 3",
   "language": "python",
   "name": "python3"
  },
  "language_info": {
   "codemirror_mode": {
    "name": "ipython",
    "version": 3
   },
   "file_extension": ".py",
   "mimetype": "text/x-python",
   "name": "python",
   "nbconvert_exporter": "python",
   "pygments_lexer": "ipython3",
   "version": "3.7.4"
  }
 },
 "nbformat": 4,
 "nbformat_minor": 1
}
